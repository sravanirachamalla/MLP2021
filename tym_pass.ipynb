{
  "nbformat": 4,
  "nbformat_minor": 0,
  "metadata": {
    "colab": {
      "name": "tym pass.ipynb",
      "provenance": [],
      "collapsed_sections": [],
      "authorship_tag": "ABX9TyPaZV/GCxo/x2QzecT7ihmw",
      "include_colab_link": true
    },
    "kernelspec": {
      "name": "python3",
      "display_name": "Python 3"
    },
    "language_info": {
      "name": "python"
    }
  },
  "cells": [
    {
      "cell_type": "markdown",
      "metadata": {
        "id": "view-in-github",
        "colab_type": "text"
      },
      "source": [
        "<a href=\"https://colab.research.google.com/github/sravanirachamalla/MLP2021/blob/main/tym_pass.ipynb\" target=\"_parent\"><img src=\"https://colab.research.google.com/assets/colab-badge.svg\" alt=\"Open In Colab\"/></a>"
      ]
    },
    {
      "cell_type": "code",
      "metadata": {
        "id": "fyEckc8NhXqf"
      },
      "source": [
        "import pandas as pd\n"
      ],
      "execution_count": 1,
      "outputs": []
    },
    {
      "cell_type": "code",
      "metadata": {
        "id": "ZERmvx46hkFm"
      },
      "source": [
        "covid_df= pd.read_csv('https://raw.githubusercontent.com/sravanirachamalla/MLP2021/main/Latest%20Covid-19%20India%20Status.csv')"
      ],
      "execution_count": 121,
      "outputs": []
    },
    {
      "cell_type": "code",
      "metadata": {
        "colab": {
          "base_uri": "https://localhost:8080/"
        },
        "id": "b9wLB3D_iNqr",
        "outputId": "5a15bffb-ee3f-4dee-ecc8-54ab341bcd1b"
      },
      "source": [
        "covid_df.info()"
      ],
      "execution_count": 122,
      "outputs": [
        {
          "output_type": "stream",
          "text": [
            "<class 'pandas.core.frame.DataFrame'>\n",
            "RangeIndex: 36 entries, 0 to 35\n",
            "Data columns (total 8 columns):\n",
            " #   Column               Non-Null Count  Dtype  \n",
            "---  ------               --------------  -----  \n",
            " 0   State/UTs            36 non-null     object \n",
            " 1   Total Cases          36 non-null     int64  \n",
            " 2   Active               36 non-null     int64  \n",
            " 3   Discharged           36 non-null     int64  \n",
            " 4   Deaths               36 non-null     int64  \n",
            " 5   Active Ratio (%)     36 non-null     float64\n",
            " 6   Discharge Ratio (%)  36 non-null     float64\n",
            " 7   Death Ratio (%)      36 non-null     float64\n",
            "dtypes: float64(3), int64(4), object(1)\n",
            "memory usage: 2.4+ KB\n"
          ],
          "name": "stdout"
        }
      ]
    },
    {
      "cell_type": "markdown",
      "metadata": {
        "id": "amP-_9F7kk-f"
      },
      "source": [
        "# **Creating feature set(X) and Y**"
      ]
    },
    {
      "cell_type": "code",
      "metadata": {
        "colab": {
          "base_uri": "https://localhost:8080/",
          "height": 203
        },
        "id": "fnzLhD-hiUIa",
        "outputId": "04f862cd-01c1-49f9-d1c2-773f5cf4c0ca"
      },
      "source": [
        "import statsmodels.api as sm\n",
        "X = sm.add_constant(covid_df['Discharged'] )\n",
        "X.head(5)"
      ],
      "execution_count": 123,
      "outputs": [
        {
          "output_type": "execute_result",
          "data": {
            "text/html": [
              "<div>\n",
              "<style scoped>\n",
              "    .dataframe tbody tr th:only-of-type {\n",
              "        vertical-align: middle;\n",
              "    }\n",
              "\n",
              "    .dataframe tbody tr th {\n",
              "        vertical-align: top;\n",
              "    }\n",
              "\n",
              "    .dataframe thead th {\n",
              "        text-align: right;\n",
              "    }\n",
              "</style>\n",
              "<table border=\"1\" class=\"dataframe\">\n",
              "  <thead>\n",
              "    <tr style=\"text-align: right;\">\n",
              "      <th></th>\n",
              "      <th>const</th>\n",
              "      <th>Discharged</th>\n",
              "    </tr>\n",
              "  </thead>\n",
              "  <tbody>\n",
              "    <tr>\n",
              "      <th>0</th>\n",
              "      <td>1.0</td>\n",
              "      <td>7421</td>\n",
              "    </tr>\n",
              "    <tr>\n",
              "      <th>1</th>\n",
              "      <td>1.0</td>\n",
              "      <td>1977163</td>\n",
              "    </tr>\n",
              "    <tr>\n",
              "      <th>2</th>\n",
              "      <td>1.0</td>\n",
              "      <td>51023</td>\n",
              "    </tr>\n",
              "    <tr>\n",
              "      <th>3</th>\n",
              "      <td>1.0</td>\n",
              "      <td>572084</td>\n",
              "    </tr>\n",
              "    <tr>\n",
              "      <th>4</th>\n",
              "      <td>1.0</td>\n",
              "      <td>715853</td>\n",
              "    </tr>\n",
              "  </tbody>\n",
              "</table>\n",
              "</div>"
            ],
            "text/plain": [
              "   const  Discharged\n",
              "0    1.0        7421\n",
              "1    1.0     1977163\n",
              "2    1.0       51023\n",
              "3    1.0      572084\n",
              "4    1.0      715853"
            ]
          },
          "metadata": {},
          "execution_count": 123
        }
      ]
    },
    {
      "cell_type": "code",
      "metadata": {
        "id": "MR5iB-W9jwqW"
      },
      "source": [
        "Y = covid_df['Total Cases']"
      ],
      "execution_count": 124,
      "outputs": []
    },
    {
      "cell_type": "markdown",
      "metadata": {
        "id": "1d0_mTApkvUP"
      },
      "source": [
        "# Splitting the dataset into training and validation sets"
      ]
    },
    {
      "cell_type": "code",
      "metadata": {
        "id": "ViCYectmkS0F"
      },
      "source": [
        "from sklearn.model_selection import train_test_split"
      ],
      "execution_count": 125,
      "outputs": []
    },
    {
      "cell_type": "code",
      "metadata": {
        "id": "ubsu7GShkW_c"
      },
      "source": [
        "train_X, test_X, train_y, test_y = train_test_split(X ,\n",
        "                                                    Y,\n",
        "                                                    train_size = 0.8,\n",
        "                                                    random_state = 100 ) "
      ],
      "execution_count": 126,
      "outputs": []
    },
    {
      "cell_type": "markdown",
      "metadata": {
        "id": "YX2yjF_AkzzP"
      },
      "source": [
        "# Fitting the Model"
      ]
    },
    {
      "cell_type": "code",
      "metadata": {
        "id": "kvxkJ8CNkiRo"
      },
      "source": [
        "covid_df= sm.OLS( train_y, train_X ).fit()"
      ],
      "execution_count": 127,
      "outputs": []
    },
    {
      "cell_type": "markdown",
      "metadata": {
        "id": "MYHPhhuClePN"
      },
      "source": [
        "# Printing Estimated Parameters and interpreting them"
      ]
    },
    {
      "cell_type": "code",
      "metadata": {
        "colab": {
          "base_uri": "https://localhost:8080/"
        },
        "id": "py8vUlj7kiOO",
        "outputId": "5cd4dca4-ce0b-4c7e-ea2f-a030d6b24440"
      },
      "source": [
        "print( covid_df.params )"
      ],
      "execution_count": 128,
      "outputs": [
        {
          "output_type": "stream",
          "text": [
            "const        -6395.934711\n",
            "Discharged       1.031571\n",
            "dtype: float64\n"
          ],
          "name": "stdout"
        }
      ]
    },
    {
      "cell_type": "markdown",
      "metadata": {
        "id": "M9ls05etmFaW"
      },
      "source": [
        "# Model Diagnostics"
      ]
    },
    {
      "cell_type": "code",
      "metadata": {
        "colab": {
          "base_uri": "https://localhost:8080/",
          "height": 307
        },
        "id": "kk1G-Zz6kiMz",
        "outputId": "4c347908-7597-43b9-c292-fbfe4a63dada"
      },
      "source": [
        "covid_df.summary2()"
      ],
      "execution_count": 129,
      "outputs": [
        {
          "output_type": "execute_result",
          "data": {
            "text/html": [
              "<table class=\"simpletable\">\n",
              "<tr>\n",
              "        <td>Model:</td>               <td>OLS</td>         <td>Adj. R-squared:</td>      <td>1.000</td>  \n",
              "</tr>\n",
              "<tr>\n",
              "  <td>Dependent Variable:</td>    <td>Total Cases</td>          <td>AIC:</td>          <td>629.5257</td> \n",
              "</tr>\n",
              "<tr>\n",
              "         <td>Date:</td>        <td>2021-08-27 17:44</td>        <td>BIC:</td>          <td>632.1901</td> \n",
              "</tr>\n",
              "<tr>\n",
              "   <td>No. Observations:</td>         <td>28</td>          <td>Log-Likelihood:</td>     <td>-312.76</td> \n",
              "</tr>\n",
              "<tr>\n",
              "       <td>Df Model:</td>              <td>1</td>           <td>F-statistic:</td>      <td>1.755e+05</td>\n",
              "</tr>\n",
              "<tr>\n",
              "     <td>Df Residuals:</td>           <td>26</td>        <td>Prob (F-statistic):</td>  <td>2.56e-51</td> \n",
              "</tr>\n",
              "<tr>\n",
              "      <td>R-squared:</td>            <td>1.000</td>            <td>Scale:</td>        <td>3.1764e+08</td>\n",
              "</tr>\n",
              "</table>\n",
              "<table class=\"simpletable\">\n",
              "<tr>\n",
              "       <td></td>         <th>Coef.</th>   <th>Std.Err.</th>      <th>t</th>     <th>P>|t|</th>   <th>[0.025</th>     <th>0.975]</th>  \n",
              "</tr>\n",
              "<tr>\n",
              "  <th>const</th>      <td>-6395.9347</td> <td>4143.2148</td>  <td>-1.5437</td> <td>0.1347</td> <td>-14912.4348</td> <td>2120.5654</td>\n",
              "</tr>\n",
              "<tr>\n",
              "  <th>Discharged</th>   <td>1.0316</td>    <td>0.0025</td>   <td>418.9426</td> <td>0.0000</td>   <td>1.0265</td>     <td>1.0366</td>  \n",
              "</tr>\n",
              "</table>\n",
              "<table class=\"simpletable\">\n",
              "<tr>\n",
              "     <td>Omnibus:</td>    <td>30.190</td>  <td>Durbin-Watson:</td>    <td>2.747</td> \n",
              "</tr>\n",
              "<tr>\n",
              "  <td>Prob(Omnibus):</td>  <td>0.000</td> <td>Jarque-Bera (JB):</td> <td>85.590</td> \n",
              "</tr>\n",
              "<tr>\n",
              "       <td>Skew:</td>      <td>2.020</td>     <td>Prob(JB):</td>      <td>0.000</td> \n",
              "</tr>\n",
              "<tr>\n",
              "     <td>Kurtosis:</td>   <td>10.553</td>  <td>Condition No.:</td>   <td>2069857</td>\n",
              "</tr>\n",
              "</table>"
            ],
            "text/plain": [
              "<class 'statsmodels.iolib.summary2.Summary'>\n",
              "\"\"\"\n",
              "                   Results: Ordinary least squares\n",
              "=====================================================================\n",
              "Model:                OLS              Adj. R-squared:     1.000     \n",
              "Dependent Variable:   Total Cases      AIC:                629.5257  \n",
              "Date:                 2021-08-27 17:44 BIC:                632.1901  \n",
              "No. Observations:     28               Log-Likelihood:     -312.76   \n",
              "Df Model:             1                F-statistic:        1.755e+05 \n",
              "Df Residuals:         26               Prob (F-statistic): 2.56e-51  \n",
              "R-squared:            1.000            Scale:              3.1764e+08\n",
              "---------------------------------------------------------------------\n",
              "             Coef.     Std.Err.    t     P>|t|     [0.025     0.975] \n",
              "---------------------------------------------------------------------\n",
              "const      -6395.9347 4143.2148  -1.5437 0.1347 -14912.4348 2120.5654\n",
              "Discharged     1.0316    0.0025 418.9426 0.0000      1.0265    1.0366\n",
              "---------------------------------------------------------------------\n",
              "Omnibus:               30.190        Durbin-Watson:           2.747  \n",
              "Prob(Omnibus):         0.000         Jarque-Bera (JB):        85.590 \n",
              "Skew:                  2.020         Prob(JB):                0.000  \n",
              "Kurtosis:              10.553        Condition No.:           2069857\n",
              "=====================================================================\n",
              "* The condition number is large (2e+06). This might indicate\n",
              "strong multicollinearity or other numerical problems.\n",
              "\"\"\""
            ]
          },
          "metadata": {},
          "execution_count": 129
        }
      ]
    },
    {
      "cell_type": "markdown",
      "metadata": {
        "id": "9ShlLBgHmY4l"
      },
      "source": [
        "Residual Anlalysis\n",
        "\n",
        "# Checking Normality"
      ]
    },
    {
      "cell_type": "code",
      "metadata": {
        "id": "yzElhsFrkiLi"
      },
      "source": [
        "import matplotlib.pyplot as plt\n",
        "import seaborn as sn\n",
        "%matplotlib inline"
      ],
      "execution_count": 106,
      "outputs": []
    },
    {
      "cell_type": "code",
      "metadata": {
        "colab": {
          "base_uri": "https://localhost:8080/",
          "height": 312
        },
        "id": "qv_Eb3VokiJZ",
        "outputId": "ffb53abe-8a0b-4320-e008-e8fe5edaf8be"
      },
      "source": [
        "covid_resid = covid_df.resid\n",
        "probplot = sm.ProbPlot( covid_df_resid )\n",
        "plt.figure( figsize = (8, 6) )\n",
        "probplot.ppplot( line='45' )\n",
        "plt.title( \"Fig 4.1 - Normal P-P Plot of Regression Standardized Residuals\" )\n",
        "plt.show()"
      ],
      "execution_count": 107,
      "outputs": [
        {
          "output_type": "display_data",
          "data": {
            "text/plain": [
              "<Figure size 576x432 with 0 Axes>"
            ]
          },
          "metadata": {}
        },
        {
          "output_type": "display_data",
          "data": {
            "image/png": "[encoded data removed]",
            "text/plain": [
              "<Figure size 432x288 with 1 Axes>"
            ]
          },
          "metadata": {
            "needs_background": "light"
          }
        }
      ]
    },
    {
      "cell_type": "markdown",
      "metadata": {
        "id": "FeTDki6Ymwmg"
      },
      "source": [
        "# Test of Homoscedasticity"
      ]
    },
    {
      "cell_type": "code",
      "metadata": {
        "id": "dkrNpjy0kiHh"
      },
      "source": [
        "def get_standardized_values( vals ):return (vals - vals.mean())/vals.std()"
      ],
      "execution_count": 108,
      "outputs": []
    },
    {
      "cell_type": "code",
      "metadata": {
        "colab": {
          "base_uri": "https://localhost:8080/",
          "height": 295
        },
        "id": "FKVUwuRhkiFe",
        "outputId": "bba82a4b-d192-4084-b80a-d05603505cc9"
      },
      "source": [
        "plt.scatter( get_standardized_values( covid_df.fittedvalues ),\n",
        "get_standardized_values( covid_df_resid ) )\n",
        "plt.title( \"Fig 4.2 - Residual Plot: covid cases prediction\" );\n",
        "plt.xlabel( \"Standardized predicted values\")\n",
        "plt.ylabel( \"Standardized Residuals\");"
      ],
      "execution_count": 109,
      "outputs": [
        {
          "output_type": "display_data",
          "data": {
            "image/png": "[encoded data removed]",
            "text/plain": [
              "<Figure size 432x288 with 1 Axes>"
            ]
          },
          "metadata": {
            "needs_background": "light"
          }
        }
      ]
    },
    {
      "cell_type": "markdown",
      "metadata": {
        "id": "Hb8l_JpGnNAg"
      },
      "source": [
        "# Outlier Analysis"
      ]
    },
    {
      "cell_type": "code",
      "metadata": {
        "id": "TgIj3jTfkh_E"
      },
      "source": [
        "from scipy.stats import zscore"
      ],
      "execution_count": 110,
      "outputs": []
    },
    {
      "cell_type": "code",
      "metadata": {
        "colab": {
          "base_uri": "https://localhost:8080/",
          "height": 279
        },
        "id": "vo6UZtZukh86",
        "outputId": "97ab8a84-fb1e-4680-efbd-252daab46c50"
      },
      "source": [
        "covid_df['z_score_Active'] = zscore( covid_df.Active )"
      ],
      "execution_count": 111,
      "outputs": [
        {
          "output_type": "error",
          "ename": "AttributeError",
          "evalue": "ignored",
          "traceback": [
            "\u001b[0;31m---------------------------------------------------------------------------\u001b[0m",
            "\u001b[0;31mAttributeError\u001b[0m                            Traceback (most recent call last)",
            "\u001b[0;32m<ipython-input-111-a5699e77d73c>\u001b[0m in \u001b[0;36m<module>\u001b[0;34m()\u001b[0m\n\u001b[0;32m----> 1\u001b[0;31m \u001b[0mcovid_df\u001b[0m\u001b[0;34m[\u001b[0m\u001b[0;34m'z_score_Active'\u001b[0m\u001b[0;34m]\u001b[0m \u001b[0;34m=\u001b[0m \u001b[0mzscore\u001b[0m\u001b[0;34m(\u001b[0m \u001b[0mcovid_df\u001b[0m\u001b[0;34m.\u001b[0m\u001b[0mActive\u001b[0m \u001b[0;34m)\u001b[0m\u001b[0;34m\u001b[0m\u001b[0;34m\u001b[0m\u001b[0m\n\u001b[0m",
            "\u001b[0;32m/usr/local/lib/python3.7/dist-packages/statsmodels/base/wrapper.py\u001b[0m in \u001b[0;36m__getattribute__\u001b[0;34m(self, attr)\u001b[0m\n\u001b[1;32m     33\u001b[0m             \u001b[0;32mpass\u001b[0m\u001b[0;34m\u001b[0m\u001b[0;34m\u001b[0m\u001b[0m\n\u001b[1;32m     34\u001b[0m \u001b[0;34m\u001b[0m\u001b[0m\n\u001b[0;32m---> 35\u001b[0;31m         \u001b[0mobj\u001b[0m \u001b[0;34m=\u001b[0m \u001b[0mgetattr\u001b[0m\u001b[0;34m(\u001b[0m\u001b[0mresults\u001b[0m\u001b[0;34m,\u001b[0m \u001b[0mattr\u001b[0m\u001b[0;34m)\u001b[0m\u001b[0;34m\u001b[0m\u001b[0;34m\u001b[0m\u001b[0m\n\u001b[0m\u001b[1;32m     36\u001b[0m         \u001b[0mdata\u001b[0m \u001b[0;34m=\u001b[0m \u001b[0mresults\u001b[0m\u001b[0;34m.\u001b[0m\u001b[0mmodel\u001b[0m\u001b[0;34m.\u001b[0m\u001b[0mdata\u001b[0m\u001b[0;34m\u001b[0m\u001b[0;34m\u001b[0m\u001b[0m\n\u001b[1;32m     37\u001b[0m         \u001b[0mhow\u001b[0m \u001b[0;34m=\u001b[0m \u001b[0mself\u001b[0m\u001b[0;34m.\u001b[0m\u001b[0m_wrap_attrs\u001b[0m\u001b[0;34m.\u001b[0m\u001b[0mget\u001b[0m\u001b[0;34m(\u001b[0m\u001b[0mattr\u001b[0m\u001b[0;34m)\u001b[0m\u001b[0;34m\u001b[0m\u001b[0;34m\u001b[0m\u001b[0m\n",
            "\u001b[0;31mAttributeError\u001b[0m: 'OLSResults' object has no attribute 'Active'"
          ]
        }
      ]
    },
    {
      "cell_type": "code",
      "metadata": {
        "id": "j9sqRRR-kh7G"
      },
      "source": [
        ""
      ],
      "execution_count": null,
      "outputs": []
    },
    {
      "cell_type": "code",
      "metadata": {
        "id": "jbwf-gAokh4-"
      },
      "source": [
        ""
      ],
      "execution_count": null,
      "outputs": []
    },
    {
      "cell_type": "code",
      "metadata": {
        "id": "qMCjNP3rkh2y"
      },
      "source": [
        ""
      ],
      "execution_count": null,
      "outputs": []
    },
    {
      "cell_type": "code",
      "metadata": {
        "id": "kISGw-M_kh0x"
      },
      "source": [
        ""
      ],
      "execution_count": null,
      "outputs": []
    }
  ]
}