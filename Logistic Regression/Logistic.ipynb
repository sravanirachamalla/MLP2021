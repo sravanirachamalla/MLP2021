{
  "nbformat": 4,
  "nbformat_minor": 0,
  "metadata": {
    "colab": {
      "name": "Logistic.ipynb",
      "provenance": []
    },
    "kernelspec": {
      "name": "python3",
      "display_name": "Python 3"
    },
    "language_info": {
      "name": "python"
    }
  },
  "cells": [
    {
      "cell_type": "markdown",
      "metadata": {
        "id": "k1OrsyikbQK_"
      },
      "source": [
        "# **HR analsis**"
      ]
    },
    {
      "cell_type": "code",
      "metadata": {
        "id": "_4nXFDcjbJo2"
      },
      "source": [
        "import pandas as pd\n",
        "import numpy as np"
      ],
      "execution_count": 34,
      "outputs": []
    },
    {
      "cell_type": "code",
      "metadata": {
        "colab": {
          "base_uri": "https://localhost:8080/"
        },
        "id": "Grcpk14VbZxz",
        "outputId": "cf263097-0df2-449e-cca8-b57795d546a4"
      },
      "source": [
        "credit_df = pd.read_csv( \"https://raw.githubusercontent.com/sravanirachamalla/MLA2021/main/Logistic%20Regression/Exercise/HR_comma_sep.csv\" )\n",
        "credit_df.info()"
      ],
      "execution_count": 35,
      "outputs": [
        {
          "output_type": "stream",
          "name": "stdout",
          "text": [
            "<class 'pandas.core.frame.DataFrame'>\n",
            "RangeIndex: 14999 entries, 0 to 14998\n",
            "Data columns (total 10 columns):\n",
            " #   Column                 Non-Null Count  Dtype  \n",
            "---  ------                 --------------  -----  \n",
            " 0   satisfaction_level     14999 non-null  float64\n",
            " 1   last_evaluation        14999 non-null  float64\n",
            " 2   number_project         14999 non-null  int64  \n",
            " 3   average_montly_hours   14999 non-null  int64  \n",
            " 4   time_spend_company     14999 non-null  int64  \n",
            " 5   Work_accident          14999 non-null  int64  \n",
            " 6   left                   14999 non-null  int64  \n",
            " 7   promotion_last_5years  14999 non-null  int64  \n",
            " 8   Department             14999 non-null  object \n",
            " 9   salary                 14999 non-null  object \n",
            "dtypes: float64(2), int64(6), object(2)\n",
            "memory usage: 1.1+ MB\n"
          ]
        }
      ]
    },
    {
      "cell_type": "code",
      "metadata": {
        "colab": {
          "base_uri": "https://localhost:8080/",
          "height": 357
        },
        "id": "SXpKfOc2dHWJ",
        "outputId": "ec77394d-b14c-4822-c0ea-34ff67de5f93"
      },
      "source": [
        "credit_df.iloc[0:10,0:8]"
      ],
      "execution_count": 39,
      "outputs": [
        {
          "output_type": "execute_result",
          "data": {
            "text/html": [
              "<div>\n",
              "<style scoped>\n",
              "    .dataframe tbody tr th:only-of-type {\n",
              "        vertical-align: middle;\n",
              "    }\n",
              "\n",
              "    .dataframe tbody tr th {\n",
              "        vertical-align: top;\n",
              "    }\n",
              "\n",
              "    .dataframe thead th {\n",
              "        text-align: right;\n",
              "    }\n",
              "</style>\n",
              "<table border=\"1\" class=\"dataframe\">\n",
              "  <thead>\n",
              "    <tr style=\"text-align: right;\">\n",
              "      <th></th>\n",
              "      <th>satisfaction_level</th>\n",
              "      <th>last_evaluation</th>\n",
              "      <th>number_project</th>\n",
              "      <th>average_montly_hours</th>\n",
              "      <th>time_spend_company</th>\n",
              "      <th>Work_accident</th>\n",
              "      <th>left</th>\n",
              "      <th>promotion_last_5years</th>\n",
              "    </tr>\n",
              "  </thead>\n",
              "  <tbody>\n",
              "    <tr>\n",
              "      <th>0</th>\n",
              "      <td>0.38</td>\n",
              "      <td>0.53</td>\n",
              "      <td>2</td>\n",
              "      <td>157</td>\n",
              "      <td>3</td>\n",
              "      <td>0</td>\n",
              "      <td>1</td>\n",
              "      <td>0</td>\n",
              "    </tr>\n",
              "    <tr>\n",
              "      <th>1</th>\n",
              "      <td>0.80</td>\n",
              "      <td>0.86</td>\n",
              "      <td>5</td>\n",
              "      <td>262</td>\n",
              "      <td>6</td>\n",
              "      <td>0</td>\n",
              "      <td>1</td>\n",
              "      <td>0</td>\n",
              "    </tr>\n",
              "    <tr>\n",
              "      <th>2</th>\n",
              "      <td>0.11</td>\n",
              "      <td>0.88</td>\n",
              "      <td>7</td>\n",
              "      <td>272</td>\n",
              "      <td>4</td>\n",
              "      <td>0</td>\n",
              "      <td>1</td>\n",
              "      <td>0</td>\n",
              "    </tr>\n",
              "    <tr>\n",
              "      <th>3</th>\n",
              "      <td>0.72</td>\n",
              "      <td>0.87</td>\n",
              "      <td>5</td>\n",
              "      <td>223</td>\n",
              "      <td>5</td>\n",
              "      <td>0</td>\n",
              "      <td>1</td>\n",
              "      <td>0</td>\n",
              "    </tr>\n",
              "    <tr>\n",
              "      <th>4</th>\n",
              "      <td>0.37</td>\n",
              "      <td>0.52</td>\n",
              "      <td>2</td>\n",
              "      <td>159</td>\n",
              "      <td>3</td>\n",
              "      <td>0</td>\n",
              "      <td>1</td>\n",
              "      <td>0</td>\n",
              "    </tr>\n",
              "    <tr>\n",
              "      <th>5</th>\n",
              "      <td>0.41</td>\n",
              "      <td>0.50</td>\n",
              "      <td>2</td>\n",
              "      <td>153</td>\n",
              "      <td>3</td>\n",
              "      <td>0</td>\n",
              "      <td>1</td>\n",
              "      <td>0</td>\n",
              "    </tr>\n",
              "    <tr>\n",
              "      <th>6</th>\n",
              "      <td>0.10</td>\n",
              "      <td>0.77</td>\n",
              "      <td>6</td>\n",
              "      <td>247</td>\n",
              "      <td>4</td>\n",
              "      <td>0</td>\n",
              "      <td>1</td>\n",
              "      <td>0</td>\n",
              "    </tr>\n",
              "    <tr>\n",
              "      <th>7</th>\n",
              "      <td>0.92</td>\n",
              "      <td>0.85</td>\n",
              "      <td>5</td>\n",
              "      <td>259</td>\n",
              "      <td>5</td>\n",
              "      <td>0</td>\n",
              "      <td>1</td>\n",
              "      <td>0</td>\n",
              "    </tr>\n",
              "    <tr>\n",
              "      <th>8</th>\n",
              "      <td>0.89</td>\n",
              "      <td>1.00</td>\n",
              "      <td>5</td>\n",
              "      <td>224</td>\n",
              "      <td>5</td>\n",
              "      <td>0</td>\n",
              "      <td>1</td>\n",
              "      <td>0</td>\n",
              "    </tr>\n",
              "    <tr>\n",
              "      <th>9</th>\n",
              "      <td>0.42</td>\n",
              "      <td>0.53</td>\n",
              "      <td>2</td>\n",
              "      <td>142</td>\n",
              "      <td>3</td>\n",
              "      <td>0</td>\n",
              "      <td>1</td>\n",
              "      <td>0</td>\n",
              "    </tr>\n",
              "  </tbody>\n",
              "</table>\n",
              "</div>"
            ],
            "text/plain": [
              "   satisfaction_level  last_evaluation  ...  left  promotion_last_5years\n",
              "0                0.38             0.53  ...     1                      0\n",
              "1                0.80             0.86  ...     1                      0\n",
              "2                0.11             0.88  ...     1                      0\n",
              "3                0.72             0.87  ...     1                      0\n",
              "4                0.37             0.52  ...     1                      0\n",
              "5                0.41             0.50  ...     1                      0\n",
              "6                0.10             0.77  ...     1                      0\n",
              "7                0.92             0.85  ...     1                      0\n",
              "8                0.89             1.00  ...     1                      0\n",
              "9                0.42             0.53  ...     1                      0\n",
              "\n",
              "[10 rows x 8 columns]"
            ]
          },
          "metadata": {},
          "execution_count": 39
        }
      ]
    },
    {
      "cell_type": "code",
      "metadata": {
        "colab": {
          "base_uri": "https://localhost:8080/",
          "height": 357
        },
        "id": "S5P_ncAKdNYR",
        "outputId": "79c3de54-d26f-4038-b6f6-56e795c9a7d3"
      },
      "source": [
        "credit_df.iloc[0:10,8:]"
      ],
      "execution_count": 37,
      "outputs": [
        {
          "output_type": "execute_result",
          "data": {
            "text/html": [
              "<div>\n",
              "<style scoped>\n",
              "    .dataframe tbody tr th:only-of-type {\n",
              "        vertical-align: middle;\n",
              "    }\n",
              "\n",
              "    .dataframe tbody tr th {\n",
              "        vertical-align: top;\n",
              "    }\n",
              "\n",
              "    .dataframe thead th {\n",
              "        text-align: right;\n",
              "    }\n",
              "</style>\n",
              "<table border=\"1\" class=\"dataframe\">\n",
              "  <thead>\n",
              "    <tr style=\"text-align: right;\">\n",
              "      <th></th>\n",
              "      <th>Department</th>\n",
              "      <th>salary</th>\n",
              "    </tr>\n",
              "  </thead>\n",
              "  <tbody>\n",
              "    <tr>\n",
              "      <th>0</th>\n",
              "      <td>sales</td>\n",
              "      <td>low</td>\n",
              "    </tr>\n",
              "    <tr>\n",
              "      <th>1</th>\n",
              "      <td>sales</td>\n",
              "      <td>medium</td>\n",
              "    </tr>\n",
              "    <tr>\n",
              "      <th>2</th>\n",
              "      <td>sales</td>\n",
              "      <td>medium</td>\n",
              "    </tr>\n",
              "    <tr>\n",
              "      <th>3</th>\n",
              "      <td>sales</td>\n",
              "      <td>low</td>\n",
              "    </tr>\n",
              "    <tr>\n",
              "      <th>4</th>\n",
              "      <td>sales</td>\n",
              "      <td>low</td>\n",
              "    </tr>\n",
              "    <tr>\n",
              "      <th>5</th>\n",
              "      <td>sales</td>\n",
              "      <td>low</td>\n",
              "    </tr>\n",
              "    <tr>\n",
              "      <th>6</th>\n",
              "      <td>sales</td>\n",
              "      <td>low</td>\n",
              "    </tr>\n",
              "    <tr>\n",
              "      <th>7</th>\n",
              "      <td>sales</td>\n",
              "      <td>low</td>\n",
              "    </tr>\n",
              "    <tr>\n",
              "      <th>8</th>\n",
              "      <td>sales</td>\n",
              "      <td>low</td>\n",
              "    </tr>\n",
              "    <tr>\n",
              "      <th>9</th>\n",
              "      <td>sales</td>\n",
              "      <td>low</td>\n",
              "    </tr>\n",
              "  </tbody>\n",
              "</table>\n",
              "</div>"
            ],
            "text/plain": [
              "  Department  salary\n",
              "0      sales     low\n",
              "1      sales  medium\n",
              "2      sales  medium\n",
              "3      sales     low\n",
              "4      sales     low\n",
              "5      sales     low\n",
              "6      sales     low\n",
              "7      sales     low\n",
              "8      sales     low\n",
              "9      sales     low"
            ]
          },
          "metadata": {},
          "execution_count": 37
        }
      ]
    },
    {
      "cell_type": "code",
      "metadata": {
        "colab": {
          "base_uri": "https://localhost:8080/"
        },
        "id": "wvsbt7P3dQzR",
        "outputId": "53d6f5c5-6252-498e-a4c0-9a5551579712"
      },
      "source": [
        "credit_df.left.value_counts()"
      ],
      "execution_count": 40,
      "outputs": [
        {
          "output_type": "execute_result",
          "data": {
            "text/plain": [
              "0    11428\n",
              "1     3571\n",
              "Name: left, dtype: int64"
            ]
          },
          "metadata": {},
          "execution_count": 40
        }
      ]
    },
    {
      "cell_type": "code",
      "metadata": {
        "colab": {
          "base_uri": "https://localhost:8080/"
        },
        "id": "_n1_pO5kdVo1",
        "outputId": "0e139673-fd42-4878-d17d-66683611d792"
      },
      "source": [
        "X_features = list( credit_df.columns )\n",
        "X_features.remove( 'left' )\n",
        "X_features"
      ],
      "execution_count": 41,
      "outputs": [
        {
          "output_type": "execute_result",
          "data": {
            "text/plain": [
              "['satisfaction_level',\n",
              " 'last_evaluation',\n",
              " 'number_project',\n",
              " 'average_montly_hours',\n",
              " 'time_spend_company',\n",
              " 'Work_accident',\n",
              " 'promotion_last_5years',\n",
              " 'Department',\n",
              " 'salary']"
            ]
          },
          "metadata": {},
          "execution_count": 41
        }
      ]
    },
    {
      "cell_type": "markdown",
      "metadata": {
        "id": "emd7va0jddKC"
      },
      "source": [
        "**Encoding Categorical Features**"
      ]
    },
    {
      "cell_type": "code",
      "metadata": {
        "id": "4QostYnMdXlZ"
      },
      "source": [
        "encoded_credit_df = pd.get_dummies( credit_df[X_features],\n",
        "drop_first = True )"
      ],
      "execution_count": 42,
      "outputs": []
    },
    {
      "cell_type": "code",
      "metadata": {
        "colab": {
          "base_uri": "https://localhost:8080/"
        },
        "id": "srz_0oQ0dkK5",
        "outputId": "80f0aad6-f0c7-4864-f963-1c3881227a0c"
      },
      "source": [
        "list(encoded_credit_df.columns)"
      ],
      "execution_count": 43,
      "outputs": [
        {
          "output_type": "execute_result",
          "data": {
            "text/plain": [
              "['satisfaction_level',\n",
              " 'last_evaluation',\n",
              " 'number_project',\n",
              " 'average_montly_hours',\n",
              " 'time_spend_company',\n",
              " 'Work_accident',\n",
              " 'promotion_last_5years',\n",
              " 'Department_RandD',\n",
              " 'Department_accounting',\n",
              " 'Department_hr',\n",
              " 'Department_management',\n",
              " 'Department_marketing',\n",
              " 'Department_product_mng',\n",
              " 'Department_sales',\n",
              " 'Department_support',\n",
              " 'Department_technical',\n",
              " 'salary_low',\n",
              " 'salary_medium']"
            ]
          },
          "metadata": {},
          "execution_count": 43
        }
      ]
    },
    {
      "cell_type": "code",
      "metadata": {
        "colab": {
          "base_uri": "https://localhost:8080/",
          "height": 357
        },
        "id": "SRggSoOjdpiN",
        "outputId": "9960d6e3-7670-4a17-d5c1-dab9eaab8a16"
      },
      "source": [
        "encoded_credit_df[['salary_low',\n",
        "'salary_medium']].head(10)"
      ],
      "execution_count": 47,
      "outputs": [
        {
          "output_type": "execute_result",
          "data": {
            "text/html": [
              "<div>\n",
              "<style scoped>\n",
              "    .dataframe tbody tr th:only-of-type {\n",
              "        vertical-align: middle;\n",
              "    }\n",
              "\n",
              "    .dataframe tbody tr th {\n",
              "        vertical-align: top;\n",
              "    }\n",
              "\n",
              "    .dataframe thead th {\n",
              "        text-align: right;\n",
              "    }\n",
              "</style>\n",
              "<table border=\"1\" class=\"dataframe\">\n",
              "  <thead>\n",
              "    <tr style=\"text-align: right;\">\n",
              "      <th></th>\n",
              "      <th>salary_low</th>\n",
              "      <th>salary_medium</th>\n",
              "    </tr>\n",
              "  </thead>\n",
              "  <tbody>\n",
              "    <tr>\n",
              "      <th>0</th>\n",
              "      <td>1</td>\n",
              "      <td>0</td>\n",
              "    </tr>\n",
              "    <tr>\n",
              "      <th>1</th>\n",
              "      <td>0</td>\n",
              "      <td>1</td>\n",
              "    </tr>\n",
              "    <tr>\n",
              "      <th>2</th>\n",
              "      <td>0</td>\n",
              "      <td>1</td>\n",
              "    </tr>\n",
              "    <tr>\n",
              "      <th>3</th>\n",
              "      <td>1</td>\n",
              "      <td>0</td>\n",
              "    </tr>\n",
              "    <tr>\n",
              "      <th>4</th>\n",
              "      <td>1</td>\n",
              "      <td>0</td>\n",
              "    </tr>\n",
              "    <tr>\n",
              "      <th>5</th>\n",
              "      <td>1</td>\n",
              "      <td>0</td>\n",
              "    </tr>\n",
              "    <tr>\n",
              "      <th>6</th>\n",
              "      <td>1</td>\n",
              "      <td>0</td>\n",
              "    </tr>\n",
              "    <tr>\n",
              "      <th>7</th>\n",
              "      <td>1</td>\n",
              "      <td>0</td>\n",
              "    </tr>\n",
              "    <tr>\n",
              "      <th>8</th>\n",
              "      <td>1</td>\n",
              "      <td>0</td>\n",
              "    </tr>\n",
              "    <tr>\n",
              "      <th>9</th>\n",
              "      <td>1</td>\n",
              "      <td>0</td>\n",
              "    </tr>\n",
              "  </tbody>\n",
              "</table>\n",
              "</div>"
            ],
            "text/plain": [
              "   salary_low  salary_medium\n",
              "0           1              0\n",
              "1           0              1\n",
              "2           0              1\n",
              "3           1              0\n",
              "4           1              0\n",
              "5           1              0\n",
              "6           1              0\n",
              "7           1              0\n",
              "8           1              0\n",
              "9           1              0"
            ]
          },
          "metadata": {},
          "execution_count": 47
        }
      ]
    },
    {
      "cell_type": "code",
      "metadata": {
        "id": "2w0aJ4TvdxM-"
      },
      "source": [
        "import statsmodels.api as sm\n",
        "Y = credit_df.left\n",
        "X = sm.add_constant( encoded_credit_df )"
      ],
      "execution_count": 49,
      "outputs": []
    },
    {
      "cell_type": "markdown",
      "metadata": {
        "id": "mRSgp33jd5nd"
      },
      "source": [
        "**Splitting into Train and Validation Sets**"
      ]
    },
    {
      "cell_type": "code",
      "metadata": {
        "id": "HkBb_lHKd8Gg"
      },
      "source": [
        "from sklearn.model_selection import train_test_split\n",
        "X_train, X_test, y_train, y_test = train_test_split(X,\n",
        "Y,\n",
        "test_size = 0.3,\n",
        "random_state = 42)"
      ],
      "execution_count": 50,
      "outputs": []
    },
    {
      "cell_type": "markdown",
      "metadata": {
        "id": "ha43GKA8eDBI"
      },
      "source": [
        "**Building Logistic Regression Model**"
      ]
    },
    {
      "cell_type": "code",
      "metadata": {
        "colab": {
          "base_uri": "https://localhost:8080/"
        },
        "id": "76aRejV9eA9c",
        "outputId": "5a8c4b9b-8ce4-4a35-a302-de007a7151d2"
      },
      "source": [
        "import statsmodels.api as sm\n",
        "logit = sm.Logit(y_train, X_train)\n",
        "logit_model = logit.fit()"
      ],
      "execution_count": 51,
      "outputs": [
        {
          "output_type": "stream",
          "name": "stdout",
          "text": [
            "Optimization terminated successfully.\n",
            "         Current function value: 0.425451\n",
            "         Iterations 7\n"
          ]
        }
      ]
    },
    {
      "cell_type": "markdown",
      "metadata": {
        "id": "s6Co_PWZeMnx"
      },
      "source": [
        "**Printing Model Summary**"
      ]
    },
    {
      "cell_type": "code",
      "metadata": {
        "colab": {
          "base_uri": "https://localhost:8080/",
          "height": 591
        },
        "id": "qoCZp0TmeKgp",
        "outputId": "e898e4fa-8823-4094-8af2-bec7c64b53fd"
      },
      "source": [
        "logit_model.summary2()"
      ],
      "execution_count": 52,
      "outputs": [
        {
          "output_type": "execute_result",
          "data": {
            "text/html": [
              "<table class=\"simpletable\">\n",
              "<tr>\n",
              "        <td>Model:</td>              <td>Logit</td>      <td>Pseudo R-squared:</td>   <td>0.225</td>  \n",
              "</tr>\n",
              "<tr>\n",
              "  <td>Dependent Variable:</td>       <td>left</td>             <td>AIC:</td>        <td>8971.6245</td>\n",
              "</tr>\n",
              "<tr>\n",
              "         <td>Date:</td>        <td>2021-09-01 05:21</td>       <td>BIC:</td>        <td>9109.5462</td>\n",
              "</tr>\n",
              "<tr>\n",
              "   <td>No. Observations:</td>        <td>10499</td>       <td>Log-Likelihood:</td>   <td>-4466.8</td> \n",
              "</tr>\n",
              "<tr>\n",
              "       <td>Df Model:</td>             <td>18</td>            <td>LL-Null:</td>       <td>-5761.7</td> \n",
              "</tr>\n",
              "<tr>\n",
              "     <td>Df Residuals:</td>          <td>10480</td>        <td>LLR p-value:</td>     <td>0.0000</td>  \n",
              "</tr>\n",
              "<tr>\n",
              "      <td>Converged:</td>           <td>1.0000</td>           <td>Scale:</td>        <td>1.0000</td>  \n",
              "</tr>\n",
              "<tr>\n",
              "    <td>No. Iterations:</td>        <td>7.0000</td>              <td></td>              <td></td>     \n",
              "</tr>\n",
              "</table>\n",
              "<table class=\"simpletable\">\n",
              "<tr>\n",
              "             <td></td>             <th>Coef.</th>  <th>Std.Err.</th>     <th>z</th>     <th>P>|z|</th> <th>[0.025</th>  <th>0.975]</th> \n",
              "</tr>\n",
              "<tr>\n",
              "  <th>const</th>                  <td>-1.7951</td>  <td>0.2307</td>   <td>-7.7818</td> <td>0.0000</td> <td>-2.2473</td> <td>-1.3430</td>\n",
              "</tr>\n",
              "<tr>\n",
              "  <th>satisfaction_level</th>     <td>-4.1857</td>  <td>0.1173</td>  <td>-35.6847</td> <td>0.0000</td> <td>-4.4156</td> <td>-3.9558</td>\n",
              "</tr>\n",
              "<tr>\n",
              "  <th>last_evaluation</th>        <td>0.6297</td>   <td>0.1787</td>   <td>3.5234</td>  <td>0.0004</td> <td>0.2794</td>  <td>0.9800</td> \n",
              "</tr>\n",
              "<tr>\n",
              "  <th>number_project</th>         <td>-0.3019</td>  <td>0.0254</td>  <td>-11.8800</td> <td>0.0000</td> <td>-0.3517</td> <td>-0.2521</td>\n",
              "</tr>\n",
              "<tr>\n",
              "  <th>average_montly_hours</th>   <td>0.0048</td>   <td>0.0006</td>   <td>7.7658</td>  <td>0.0000</td> <td>0.0036</td>  <td>0.0060</td> \n",
              "</tr>\n",
              "<tr>\n",
              "  <th>time_spend_company</th>     <td>0.2678</td>   <td>0.0187</td>   <td>14.3073</td> <td>0.0000</td> <td>0.2311</td>  <td>0.3044</td> \n",
              "</tr>\n",
              "<tr>\n",
              "  <th>Work_accident</th>          <td>-1.5018</td>  <td>0.1056</td>  <td>-14.2198</td> <td>0.0000</td> <td>-1.7088</td> <td>-1.2948</td>\n",
              "</tr>\n",
              "<tr>\n",
              "  <th>promotion_last_5years</th>  <td>-1.3485</td>  <td>0.3021</td>   <td>-4.4634</td> <td>0.0000</td> <td>-1.9406</td> <td>-0.7563</td>\n",
              "</tr>\n",
              "<tr>\n",
              "  <th>Department_RandD</th>       <td>-0.5820</td>  <td>0.1668</td>   <td>-3.4883</td> <td>0.0005</td> <td>-0.9090</td> <td>-0.2550</td>\n",
              "</tr>\n",
              "<tr>\n",
              "  <th>Department_accounting</th>  <td>0.2244</td>   <td>0.1465</td>   <td>1.5312</td>  <td>0.1257</td> <td>-0.0628</td> <td>0.5116</td> \n",
              "</tr>\n",
              "<tr>\n",
              "  <th>Department_hr</th>          <td>0.4455</td>   <td>0.1478</td>   <td>3.0135</td>  <td>0.0026</td> <td>0.1557</td>  <td>0.7352</td> \n",
              "</tr>\n",
              "<tr>\n",
              "  <th>Department_management</th>  <td>-0.2483</td>  <td>0.1773</td>   <td>-1.4010</td> <td>0.1612</td> <td>-0.5957</td> <td>0.0991</td> \n",
              "</tr>\n",
              "<tr>\n",
              "  <th>Department_marketing</th>   <td>0.2629</td>   <td>0.1469</td>   <td>1.7891</td>  <td>0.0736</td> <td>-0.0251</td> <td>0.5509</td> \n",
              "</tr>\n",
              "<tr>\n",
              "  <th>Department_product_mng</th> <td>0.1162</td>   <td>0.1402</td>   <td>0.8283</td>  <td>0.4075</td> <td>-0.1587</td> <td>0.3910</td> \n",
              "</tr>\n",
              "<tr>\n",
              "  <th>Department_sales</th>       <td>0.1571</td>   <td>0.1070</td>   <td>1.4682</td>  <td>0.1421</td> <td>-0.0526</td> <td>0.3669</td> \n",
              "</tr>\n",
              "<tr>\n",
              "  <th>Department_support</th>     <td>0.1707</td>   <td>0.1173</td>   <td>1.4552</td>  <td>0.1456</td> <td>-0.0592</td> <td>0.4006</td> \n",
              "</tr>\n",
              "<tr>\n",
              "  <th>Department_technical</th>   <td>0.2641</td>   <td>0.1129</td>   <td>2.3380</td>  <td>0.0194</td> <td>0.0427</td>  <td>0.4855</td> \n",
              "</tr>\n",
              "<tr>\n",
              "  <th>salary_low</th>             <td>2.0546</td>   <td>0.1596</td>   <td>12.8731</td> <td>0.0000</td> <td>1.7418</td>  <td>2.3674</td> \n",
              "</tr>\n",
              "<tr>\n",
              "  <th>salary_medium</th>          <td>1.5342</td>   <td>0.1603</td>   <td>9.5677</td>  <td>0.0000</td> <td>1.2199</td>  <td>1.8484</td> \n",
              "</tr>\n",
              "</table>"
            ],
            "text/plain": [
              "<class 'statsmodels.iolib.summary2.Summary'>\n",
              "\"\"\"\n",
              "                            Results: Logit\n",
              "=======================================================================\n",
              "Model:                 Logit              Pseudo R-squared:   0.225    \n",
              "Dependent Variable:    left               AIC:                8971.6245\n",
              "Date:                  2021-09-01 05:21   BIC:                9109.5462\n",
              "No. Observations:      10499              Log-Likelihood:     -4466.8  \n",
              "Df Model:              18                 LL-Null:            -5761.7  \n",
              "Df Residuals:          10480              LLR p-value:        0.0000   \n",
              "Converged:             1.0000             Scale:              1.0000   \n",
              "No. Iterations:        7.0000                                          \n",
              "-----------------------------------------------------------------------\n",
              "                        Coef.  Std.Err.    z     P>|z|   [0.025  0.975]\n",
              "-----------------------------------------------------------------------\n",
              "const                  -1.7951   0.2307  -7.7818 0.0000 -2.2473 -1.3430\n",
              "satisfaction_level     -4.1857   0.1173 -35.6847 0.0000 -4.4156 -3.9558\n",
              "last_evaluation         0.6297   0.1787   3.5234 0.0004  0.2794  0.9800\n",
              "number_project         -0.3019   0.0254 -11.8800 0.0000 -0.3517 -0.2521\n",
              "average_montly_hours    0.0048   0.0006   7.7658 0.0000  0.0036  0.0060\n",
              "time_spend_company      0.2678   0.0187  14.3073 0.0000  0.2311  0.3044\n",
              "Work_accident          -1.5018   0.1056 -14.2198 0.0000 -1.7088 -1.2948\n",
              "promotion_last_5years  -1.3485   0.3021  -4.4634 0.0000 -1.9406 -0.7563\n",
              "Department_RandD       -0.5820   0.1668  -3.4883 0.0005 -0.9090 -0.2550\n",
              "Department_accounting   0.2244   0.1465   1.5312 0.1257 -0.0628  0.5116\n",
              "Department_hr           0.4455   0.1478   3.0135 0.0026  0.1557  0.7352\n",
              "Department_management  -0.2483   0.1773  -1.4010 0.1612 -0.5957  0.0991\n",
              "Department_marketing    0.2629   0.1469   1.7891 0.0736 -0.0251  0.5509\n",
              "Department_product_mng  0.1162   0.1402   0.8283 0.4075 -0.1587  0.3910\n",
              "Department_sales        0.1571   0.1070   1.4682 0.1421 -0.0526  0.3669\n",
              "Department_support      0.1707   0.1173   1.4552 0.1456 -0.0592  0.4006\n",
              "Department_technical    0.2641   0.1129   2.3380 0.0194  0.0427  0.4855\n",
              "salary_low              2.0546   0.1596  12.8731 0.0000  1.7418  2.3674\n",
              "salary_medium           1.5342   0.1603   9.5677 0.0000  1.2199  1.8484\n",
              "=======================================================================\n",
              "\n",
              "\"\"\""
            ]
          },
          "metadata": {},
          "execution_count": 52
        }
      ]
    },
    {
      "cell_type": "markdown",
      "metadata": {
        "id": "IPVRMxY2eU8_"
      },
      "source": [
        "**Model Dignostics**"
      ]
    },
    {
      "cell_type": "code",
      "metadata": {
        "id": "js6Sct2leIfm"
      },
      "source": [
        "def get_significant_vars( lm ):\n",
        "    var_p_vals_df = pd.DataFrame( lm.pvalues )\n",
        "    var_p_vals_df['vars'] = var_p_vals_df.index\n",
        "    var_p_vals_df.columns = ['pvals', 'vars']\n",
        "    return list( var_p_vals_df[var_p_vals_df.pvals <= 0.05]['vars'] )"
      ],
      "execution_count": 53,
      "outputs": []
    },
    {
      "cell_type": "code",
      "metadata": {
        "colab": {
          "base_uri": "https://localhost:8080/"
        },
        "id": "qOeBFGRrehSw",
        "outputId": "35b202e9-ce11-4e0a-cdc1-89b1209413b1"
      },
      "source": [
        "significant_vars = get_significant_vars( logit_model )\n",
        "significant_vars"
      ],
      "execution_count": 54,
      "outputs": [
        {
          "output_type": "execute_result",
          "data": {
            "text/plain": [
              "['const',\n",
              " 'satisfaction_level',\n",
              " 'last_evaluation',\n",
              " 'number_project',\n",
              " 'average_montly_hours',\n",
              " 'time_spend_company',\n",
              " 'Work_accident',\n",
              " 'promotion_last_5years',\n",
              " 'Department_RandD',\n",
              " 'Department_hr',\n",
              " 'Department_technical',\n",
              " 'salary_low',\n",
              " 'salary_medium']"
            ]
          },
          "metadata": {},
          "execution_count": 54
        }
      ]
    },
    {
      "cell_type": "code",
      "metadata": {
        "colab": {
          "base_uri": "https://localhost:8080/"
        },
        "id": "Qy9325vKekSI",
        "outputId": "5d3a9f00-0883-4e78-d92c-f92def3b3c83"
      },
      "source": [
        "final_logit = sm.Logit( y_train,\n",
        "sm.add_constant( X_train[significant_vars] ) ).fit()"
      ],
      "execution_count": 55,
      "outputs": [
        {
          "output_type": "stream",
          "name": "stdout",
          "text": [
            "Optimization terminated successfully.\n",
            "         Current function value: 0.425996\n",
            "         Iterations 7\n"
          ]
        }
      ]
    },
    {
      "cell_type": "code",
      "metadata": {
        "colab": {
          "base_uri": "https://localhost:8080/",
          "height": 469
        },
        "id": "wiFNgxJResm0",
        "outputId": "aa757e3b-7d02-456d-f956-2c78d7186b17"
      },
      "source": [
        "final_logit.summary2()"
      ],
      "execution_count": 56,
      "outputs": [
        {
          "output_type": "execute_result",
          "data": {
            "text/html": [
              "<table class=\"simpletable\">\n",
              "<tr>\n",
              "        <td>Model:</td>              <td>Logit</td>      <td>Pseudo R-squared:</td>   <td>0.224</td>  \n",
              "</tr>\n",
              "<tr>\n",
              "  <td>Dependent Variable:</td>       <td>left</td>             <td>AIC:</td>        <td>8971.0718</td>\n",
              "</tr>\n",
              "<tr>\n",
              "         <td>Date:</td>        <td>2021-09-01 05:22</td>       <td>BIC:</td>        <td>9065.4393</td>\n",
              "</tr>\n",
              "<tr>\n",
              "   <td>No. Observations:</td>        <td>10499</td>       <td>Log-Likelihood:</td>   <td>-4472.5</td> \n",
              "</tr>\n",
              "<tr>\n",
              "       <td>Df Model:</td>             <td>12</td>            <td>LL-Null:</td>       <td>-5761.7</td> \n",
              "</tr>\n",
              "<tr>\n",
              "     <td>Df Residuals:</td>          <td>10486</td>        <td>LLR p-value:</td>     <td>0.0000</td>  \n",
              "</tr>\n",
              "<tr>\n",
              "      <td>Converged:</td>           <td>1.0000</td>           <td>Scale:</td>        <td>1.0000</td>  \n",
              "</tr>\n",
              "<tr>\n",
              "    <td>No. Iterations:</td>        <td>7.0000</td>              <td></td>              <td></td>     \n",
              "</tr>\n",
              "</table>\n",
              "<table class=\"simpletable\">\n",
              "<tr>\n",
              "            <td></td>             <th>Coef.</th>  <th>Std.Err.</th>     <th>z</th>     <th>P>|z|</th> <th>[0.025</th>  <th>0.975]</th> \n",
              "</tr>\n",
              "<tr>\n",
              "  <th>const</th>                 <td>-1.6976</td>  <td>0.2113</td>   <td>-8.0326</td> <td>0.0000</td> <td>-2.1118</td> <td>-1.2834</td>\n",
              "</tr>\n",
              "<tr>\n",
              "  <th>satisfaction_level</th>    <td>-4.1884</td>  <td>0.1172</td>  <td>-35.7314</td> <td>0.0000</td> <td>-4.4181</td> <td>-3.9587</td>\n",
              "</tr>\n",
              "<tr>\n",
              "  <th>last_evaluation</th>       <td>0.6231</td>   <td>0.1785</td>   <td>3.4905</td>  <td>0.0005</td> <td>0.2732</td>  <td>0.9730</td> \n",
              "</tr>\n",
              "<tr>\n",
              "  <th>number_project</th>        <td>-0.3017</td>  <td>0.0254</td>  <td>-11.8856</td> <td>0.0000</td> <td>-0.3515</td> <td>-0.2520</td>\n",
              "</tr>\n",
              "<tr>\n",
              "  <th>average_montly_hours</th>  <td>0.0048</td>   <td>0.0006</td>   <td>7.7795</td>  <td>0.0000</td> <td>0.0036</td>  <td>0.0060</td> \n",
              "</tr>\n",
              "<tr>\n",
              "  <th>time_spend_company</th>    <td>0.2636</td>   <td>0.0185</td>   <td>14.2373</td> <td>0.0000</td> <td>0.2273</td>  <td>0.2999</td> \n",
              "</tr>\n",
              "<tr>\n",
              "  <th>Work_accident</th>         <td>-1.5019</td>  <td>0.1056</td>  <td>-14.2169</td> <td>0.0000</td> <td>-1.7090</td> <td>-1.2949</td>\n",
              "</tr>\n",
              "<tr>\n",
              "  <th>promotion_last_5years</th> <td>-1.3769</td>  <td>0.3005</td>   <td>-4.5817</td> <td>0.0000</td> <td>-1.9660</td> <td>-0.7879</td>\n",
              "</tr>\n",
              "<tr>\n",
              "  <th>Department_RandD</th>      <td>-0.7150</td>  <td>0.1407</td>   <td>-5.0830</td> <td>0.0000</td> <td>-0.9906</td> <td>-0.4393</td>\n",
              "</tr>\n",
              "<tr>\n",
              "  <th>Department_hr</th>         <td>0.3120</td>   <td>0.1175</td>   <td>2.6548</td>  <td>0.0079</td> <td>0.0817</td>  <td>0.5423</td> \n",
              "</tr>\n",
              "<tr>\n",
              "  <th>Department_technical</th>  <td>0.1302</td>   <td>0.0687</td>   <td>1.8960</td>  <td>0.0580</td> <td>-0.0044</td> <td>0.2648</td> \n",
              "</tr>\n",
              "<tr>\n",
              "  <th>salary_low</th>            <td>2.1139</td>   <td>0.1584</td>   <td>13.3427</td> <td>0.0000</td> <td>1.8034</td>  <td>2.4244</td> \n",
              "</tr>\n",
              "<tr>\n",
              "  <th>salary_medium</th>         <td>1.5889</td>   <td>0.1593</td>   <td>9.9755</td>  <td>0.0000</td> <td>1.2767</td>  <td>1.9011</td> \n",
              "</tr>\n",
              "</table>"
            ],
            "text/plain": [
              "<class 'statsmodels.iolib.summary2.Summary'>\n",
              "\"\"\"\n",
              "                            Results: Logit\n",
              "======================================================================\n",
              "Model:                Logit              Pseudo R-squared:   0.224    \n",
              "Dependent Variable:   left               AIC:                8971.0718\n",
              "Date:                 2021-09-01 05:22   BIC:                9065.4393\n",
              "No. Observations:     10499              Log-Likelihood:     -4472.5  \n",
              "Df Model:             12                 LL-Null:            -5761.7  \n",
              "Df Residuals:         10486              LLR p-value:        0.0000   \n",
              "Converged:            1.0000             Scale:              1.0000   \n",
              "No. Iterations:       7.0000                                          \n",
              "----------------------------------------------------------------------\n",
              "                       Coef.  Std.Err.    z     P>|z|   [0.025  0.975]\n",
              "----------------------------------------------------------------------\n",
              "const                 -1.6976   0.2113  -8.0326 0.0000 -2.1118 -1.2834\n",
              "satisfaction_level    -4.1884   0.1172 -35.7314 0.0000 -4.4181 -3.9587\n",
              "last_evaluation        0.6231   0.1785   3.4905 0.0005  0.2732  0.9730\n",
              "number_project        -0.3017   0.0254 -11.8856 0.0000 -0.3515 -0.2520\n",
              "average_montly_hours   0.0048   0.0006   7.7795 0.0000  0.0036  0.0060\n",
              "time_spend_company     0.2636   0.0185  14.2373 0.0000  0.2273  0.2999\n",
              "Work_accident         -1.5019   0.1056 -14.2169 0.0000 -1.7090 -1.2949\n",
              "promotion_last_5years -1.3769   0.3005  -4.5817 0.0000 -1.9660 -0.7879\n",
              "Department_RandD      -0.7150   0.1407  -5.0830 0.0000 -0.9906 -0.4393\n",
              "Department_hr          0.3120   0.1175   2.6548 0.0079  0.0817  0.5423\n",
              "Department_technical   0.1302   0.0687   1.8960 0.0580 -0.0044  0.2648\n",
              "salary_low             2.1139   0.1584  13.3427 0.0000  1.8034  2.4244\n",
              "salary_medium          1.5889   0.1593   9.9755 0.0000  1.2767  1.9011\n",
              "======================================================================\n",
              "\n",
              "\"\"\""
            ]
          },
          "metadata": {},
          "execution_count": 56
        }
      ]
    },
    {
      "cell_type": "markdown",
      "metadata": {
        "id": "c1Qf51qoewt2"
      },
      "source": [
        "**Predicting on Test Data**"
      ]
    },
    {
      "cell_type": "code",
      "metadata": {
        "id": "z45W99KAeydP"
      },
      "source": [
        "y_pred_df = pd.DataFrame( { \"actual\": y_test,\n",
        "\"predicted_prob\": final_logit.predict(\n",
        "sm.add_constant( X_test[significant_vars] ) ) } )"
      ],
      "execution_count": 57,
      "outputs": []
    },
    {
      "cell_type": "code",
      "metadata": {
        "colab": {
          "base_uri": "https://localhost:8080/",
          "height": 511
        },
        "id": "EvBvrGo6e4lT",
        "outputId": "5cd9222b-245d-457e-c094-9a771f49fdc1"
      },
      "source": [
        "y_pred_df.sample(15, random_state = 42)"
      ],
      "execution_count": 60,
      "outputs": [
        {
          "output_type": "execute_result",
          "data": {
            "text/html": [
              "<div>\n",
              "<style scoped>\n",
              "    .dataframe tbody tr th:only-of-type {\n",
              "        vertical-align: middle;\n",
              "    }\n",
              "\n",
              "    .dataframe tbody tr th {\n",
              "        vertical-align: top;\n",
              "    }\n",
              "\n",
              "    .dataframe thead th {\n",
              "        text-align: right;\n",
              "    }\n",
              "</style>\n",
              "<table border=\"1\" class=\"dataframe\">\n",
              "  <thead>\n",
              "    <tr style=\"text-align: right;\">\n",
              "      <th></th>\n",
              "      <th>actual</th>\n",
              "      <th>predicted_prob</th>\n",
              "      <th>predicted</th>\n",
              "    </tr>\n",
              "  </thead>\n",
              "  <tbody>\n",
              "    <tr>\n",
              "      <th>13995</th>\n",
              "      <td>0</td>\n",
              "      <td>0.007618</td>\n",
              "      <td>0</td>\n",
              "    </tr>\n",
              "    <tr>\n",
              "      <th>4442</th>\n",
              "      <td>0</td>\n",
              "      <td>0.273093</td>\n",
              "      <td>0</td>\n",
              "    </tr>\n",
              "    <tr>\n",
              "      <th>8091</th>\n",
              "      <td>0</td>\n",
              "      <td>0.170343</td>\n",
              "      <td>0</td>\n",
              "    </tr>\n",
              "    <tr>\n",
              "      <th>9822</th>\n",
              "      <td>0</td>\n",
              "      <td>0.034714</td>\n",
              "      <td>0</td>\n",
              "    </tr>\n",
              "    <tr>\n",
              "      <th>6151</th>\n",
              "      <td>0</td>\n",
              "      <td>0.404714</td>\n",
              "      <td>0</td>\n",
              "    </tr>\n",
              "    <tr>\n",
              "      <th>6282</th>\n",
              "      <td>0</td>\n",
              "      <td>0.039314</td>\n",
              "      <td>0</td>\n",
              "    </tr>\n",
              "    <tr>\n",
              "      <th>511</th>\n",
              "      <td>1</td>\n",
              "      <td>0.557681</td>\n",
              "      <td>1</td>\n",
              "    </tr>\n",
              "    <tr>\n",
              "      <th>11024</th>\n",
              "      <td>0</td>\n",
              "      <td>0.147946</td>\n",
              "      <td>0</td>\n",
              "    </tr>\n",
              "    <tr>\n",
              "      <th>3980</th>\n",
              "      <td>0</td>\n",
              "      <td>0.118936</td>\n",
              "      <td>0</td>\n",
              "    </tr>\n",
              "    <tr>\n",
              "      <th>4229</th>\n",
              "      <td>0</td>\n",
              "      <td>0.109096</td>\n",
              "      <td>0</td>\n",
              "    </tr>\n",
              "    <tr>\n",
              "      <th>7518</th>\n",
              "      <td>0</td>\n",
              "      <td>0.075103</td>\n",
              "      <td>0</td>\n",
              "    </tr>\n",
              "    <tr>\n",
              "      <th>2992</th>\n",
              "      <td>0</td>\n",
              "      <td>0.076985</td>\n",
              "      <td>0</td>\n",
              "    </tr>\n",
              "    <tr>\n",
              "      <th>7936</th>\n",
              "      <td>0</td>\n",
              "      <td>0.100463</td>\n",
              "      <td>0</td>\n",
              "    </tr>\n",
              "    <tr>\n",
              "      <th>8065</th>\n",
              "      <td>0</td>\n",
              "      <td>0.323556</td>\n",
              "      <td>0</td>\n",
              "    </tr>\n",
              "    <tr>\n",
              "      <th>9910</th>\n",
              "      <td>0</td>\n",
              "      <td>0.099613</td>\n",
              "      <td>0</td>\n",
              "    </tr>\n",
              "  </tbody>\n",
              "</table>\n",
              "</div>"
            ],
            "text/plain": [
              "       actual  predicted_prob  predicted\n",
              "13995       0        0.007618          0\n",
              "4442        0        0.273093          0\n",
              "8091        0        0.170343          0\n",
              "9822        0        0.034714          0\n",
              "6151        0        0.404714          0\n",
              "6282        0        0.039314          0\n",
              "511         1        0.557681          1\n",
              "11024       0        0.147946          0\n",
              "3980        0        0.118936          0\n",
              "4229        0        0.109096          0\n",
              "7518        0        0.075103          0\n",
              "2992        0        0.076985          0\n",
              "7936        0        0.100463          0\n",
              "8065        0        0.323556          0\n",
              "9910        0        0.099613          0"
            ]
          },
          "metadata": {},
          "execution_count": 60
        }
      ]
    },
    {
      "cell_type": "code",
      "metadata": {
        "colab": {
          "base_uri": "https://localhost:8080/",
          "height": 511
        },
        "id": "TTLGzAGQfF_3",
        "outputId": "fabcc0d3-a04e-48bd-b056-85074744a869"
      },
      "source": [
        "y_pred_df['predicted'] = y_pred_df.predicted_prob.map(\n",
        "lambda x: 1 if x > 0.5 else 0)\n",
        "\n",
        "y_pred_df.sample(15, random_state = 42)"
      ],
      "execution_count": 62,
      "outputs": [
        {
          "output_type": "execute_result",
          "data": {
            "text/html": [
              "<div>\n",
              "<style scoped>\n",
              "    .dataframe tbody tr th:only-of-type {\n",
              "        vertical-align: middle;\n",
              "    }\n",
              "\n",
              "    .dataframe tbody tr th {\n",
              "        vertical-align: top;\n",
              "    }\n",
              "\n",
              "    .dataframe thead th {\n",
              "        text-align: right;\n",
              "    }\n",
              "</style>\n",
              "<table border=\"1\" class=\"dataframe\">\n",
              "  <thead>\n",
              "    <tr style=\"text-align: right;\">\n",
              "      <th></th>\n",
              "      <th>actual</th>\n",
              "      <th>predicted_prob</th>\n",
              "      <th>predicted</th>\n",
              "    </tr>\n",
              "  </thead>\n",
              "  <tbody>\n",
              "    <tr>\n",
              "      <th>13995</th>\n",
              "      <td>0</td>\n",
              "      <td>0.007618</td>\n",
              "      <td>0</td>\n",
              "    </tr>\n",
              "    <tr>\n",
              "      <th>4442</th>\n",
              "      <td>0</td>\n",
              "      <td>0.273093</td>\n",
              "      <td>0</td>\n",
              "    </tr>\n",
              "    <tr>\n",
              "      <th>8091</th>\n",
              "      <td>0</td>\n",
              "      <td>0.170343</td>\n",
              "      <td>0</td>\n",
              "    </tr>\n",
              "    <tr>\n",
              "      <th>9822</th>\n",
              "      <td>0</td>\n",
              "      <td>0.034714</td>\n",
              "      <td>0</td>\n",
              "    </tr>\n",
              "    <tr>\n",
              "      <th>6151</th>\n",
              "      <td>0</td>\n",
              "      <td>0.404714</td>\n",
              "      <td>0</td>\n",
              "    </tr>\n",
              "    <tr>\n",
              "      <th>6282</th>\n",
              "      <td>0</td>\n",
              "      <td>0.039314</td>\n",
              "      <td>0</td>\n",
              "    </tr>\n",
              "    <tr>\n",
              "      <th>511</th>\n",
              "      <td>1</td>\n",
              "      <td>0.557681</td>\n",
              "      <td>1</td>\n",
              "    </tr>\n",
              "    <tr>\n",
              "      <th>11024</th>\n",
              "      <td>0</td>\n",
              "      <td>0.147946</td>\n",
              "      <td>0</td>\n",
              "    </tr>\n",
              "    <tr>\n",
              "      <th>3980</th>\n",
              "      <td>0</td>\n",
              "      <td>0.118936</td>\n",
              "      <td>0</td>\n",
              "    </tr>\n",
              "    <tr>\n",
              "      <th>4229</th>\n",
              "      <td>0</td>\n",
              "      <td>0.109096</td>\n",
              "      <td>0</td>\n",
              "    </tr>\n",
              "    <tr>\n",
              "      <th>7518</th>\n",
              "      <td>0</td>\n",
              "      <td>0.075103</td>\n",
              "      <td>0</td>\n",
              "    </tr>\n",
              "    <tr>\n",
              "      <th>2992</th>\n",
              "      <td>0</td>\n",
              "      <td>0.076985</td>\n",
              "      <td>0</td>\n",
              "    </tr>\n",
              "    <tr>\n",
              "      <th>7936</th>\n",
              "      <td>0</td>\n",
              "      <td>0.100463</td>\n",
              "      <td>0</td>\n",
              "    </tr>\n",
              "    <tr>\n",
              "      <th>8065</th>\n",
              "      <td>0</td>\n",
              "      <td>0.323556</td>\n",
              "      <td>0</td>\n",
              "    </tr>\n",
              "    <tr>\n",
              "      <th>9910</th>\n",
              "      <td>0</td>\n",
              "      <td>0.099613</td>\n",
              "      <td>0</td>\n",
              "    </tr>\n",
              "  </tbody>\n",
              "</table>\n",
              "</div>"
            ],
            "text/plain": [
              "       actual  predicted_prob  predicted\n",
              "13995       0        0.007618          0\n",
              "4442        0        0.273093          0\n",
              "8091        0        0.170343          0\n",
              "9822        0        0.034714          0\n",
              "6151        0        0.404714          0\n",
              "6282        0        0.039314          0\n",
              "511         1        0.557681          1\n",
              "11024       0        0.147946          0\n",
              "3980        0        0.118936          0\n",
              "4229        0        0.109096          0\n",
              "7518        0        0.075103          0\n",
              "2992        0        0.076985          0\n",
              "7936        0        0.100463          0\n",
              "8065        0        0.323556          0\n",
              "9910        0        0.099613          0"
            ]
          },
          "metadata": {},
          "execution_count": 62
        }
      ]
    },
    {
      "cell_type": "markdown",
      "metadata": {
        "id": "Jxiso9jkfQZZ"
      },
      "source": [
        "**Creating a Confusion Matrix**"
      ]
    },
    {
      "cell_type": "code",
      "metadata": {
        "id": "zd5rQLwefSPo"
      },
      "source": [
        "import matplotlib.pyplot as plt\n",
        "import seaborn as sn\n",
        "%matplotlib inline\n",
        "from sklearn import metrics"
      ],
      "execution_count": 63,
      "outputs": []
    },
    {
      "cell_type": "code",
      "metadata": {
        "id": "j_WDULODfWZP"
      },
      "source": [
        "def draw_cm( actual, predicted ):\n",
        "## Cret\n",
        "    cm = metrics.confusion_matrix( actual, predicted, [1,0] )\n",
        "    sn.heatmap(cm, annot=True, fmt='.2f',\n",
        "                xticklabels = [\"Bad credit\", \"Good Credit\"] ,\n",
        "                yticklabels = [\"Bad credit\", \"Good Credit\"] )\n",
        "    plt.ylabel('True label')\n",
        "    plt.xlabel('Predicted label')\n",
        "    plt.show()"
      ],
      "execution_count": 64,
      "outputs": []
    },
    {
      "cell_type": "code",
      "metadata": {
        "colab": {
          "base_uri": "https://localhost:8080/",
          "height": 279
        },
        "id": "ruwl1LVzfoUF",
        "outputId": "0e4a18ee-7e3c-44f5-a682-6924d03bb4ce"
      },
      "source": [
        "draw_cm( y_pred_df.actual,\n",
        "y_pred_df.predicted )"
      ],
      "execution_count": 65,
      "outputs": [
        {
          "output_type": "display_data",
          "data": {
            "image/png": "[encoded data removed]",
            "text/plain": [
              "<Figure size 432x288 with 2 Axes>"
            ]
          },
          "metadata": {
            "needs_background": "light"
          }
        }
      ]
    },
    {
      "cell_type": "markdown",
      "metadata": {
        "id": "e-5mQfs2gAeO"
      },
      "source": [
        "**Measuring Accuracies**"
      ]
    },
    {
      "cell_type": "code",
      "metadata": {
        "colab": {
          "base_uri": "https://localhost:8080/"
        },
        "id": "8CeXImFWgCl8",
        "outputId": "01d16e28-7324-4e45-9d86-2075b631daad"
      },
      "source": [
        "print( metrics.classification_report( y_pred_df.actual,\n",
        "y_pred_df.predicted ) )"
      ],
      "execution_count": 66,
      "outputs": [
        {
          "output_type": "stream",
          "name": "stdout",
          "text": [
            "              precision    recall  f1-score   support\n",
            "\n",
            "           0       0.81      0.93      0.87      3428\n",
            "           1       0.58      0.33      0.42      1072\n",
            "\n",
            "    accuracy                           0.78      4500\n",
            "   macro avg       0.70      0.63      0.64      4500\n",
            "weighted avg       0.76      0.78      0.76      4500\n",
            "\n"
          ]
        }
      ]
    },
    {
      "cell_type": "code",
      "metadata": {
        "colab": {
          "base_uri": "https://localhost:8080/",
          "height": 476
        },
        "id": "A8vkebzQgPEW",
        "outputId": "71d3d581-0b1e-433e-cee6-ecd503c626e7"
      },
      "source": [
        "plt.figure( figsize = (8,6) )\n",
        "sn.distplot( y_pred_df[y_pred_df.actual == 1][\"predicted_prob\"],\n",
        "kde=False, color = 'b',\n",
        "label = 'Bad Credit' )\n",
        "sn.distplot( y_pred_df[y_pred_df.actual == 0][\"predicted_prob\"],\n",
        "kde=False, color = 'g',\n",
        "label = 'Good Credit' )\n",
        "plt.legend()\n",
        "plt.show()"
      ],
      "execution_count": 67,
      "outputs": [
        {
          "output_type": "stream",
          "name": "stderr",
          "text": [
            "/usr/local/lib/python3.7/dist-packages/seaborn/distributions.py:2557: FutureWarning: `distplot` is a deprecated function and will be removed in a future version. Please adapt your code to use either `displot` (a figure-level function with similar flexibility) or `histplot` (an axes-level function for histograms).\n",
            "  warnings.warn(msg, FutureWarning)\n",
            "/usr/local/lib/python3.7/dist-packages/seaborn/distributions.py:2557: FutureWarning: `distplot` is a deprecated function and will be removed in a future version. Please adapt your code to use either `displot` (a figure-level function with similar flexibility) or `histplot` (an axes-level function for histograms).\n",
            "  warnings.warn(msg, FutureWarning)\n"
          ]
        },
        {
          "output_type": "display_data",
          "data": {
            "image/png": "[encoded data removed]",
            "text/plain": [
              "<Figure size 576x432 with 1 Axes>"
            ]
          },
          "metadata": {
            "needs_background": "light"
          }
        }
      ]
    },
    {
      "cell_type": "markdown",
      "metadata": {
        "id": "9IbgHSg4gVfv"
      },
      "source": [
        "**ROC & AUC**"
      ]
    },
    {
      "cell_type": "code",
      "metadata": {
        "id": "qn1hFlo6gXZx"
      },
      "source": [
        "def draw_roc( actual, probs ):\n",
        "    fpr, \\\n",
        "    tpr, \\\n",
        "    thresholds = metrics.roc_curve( actual,\n",
        "                                    probs,\n",
        "                                    drop_intermediate = False )\n",
        "    auc_score = metrics.roc_auc_score( actual, probs )\n",
        "    plt.figure(figsize=(8, 6))\n",
        "    plt.plot( fpr, tpr, label='ROC curve (area = %0.2f)' % auc_score )\n",
        "    plt.plot([0, 1], [0, 1], 'k--')\n",
        "    plt.xlim([0.0, 1.0])\n",
        "    plt.ylim([0.0, 1.05])\n",
        "    plt.xlabel('False Positive Rate or [1 - True Negative Rate]')\n",
        "    plt.ylabel('True Positive Rate')\n",
        "    plt.legend(loc=\"lower right\")\n",
        "    plt.show()\n",
        "    \n",
        "    return fpr, tpr, thresholds"
      ],
      "execution_count": 68,
      "outputs": []
    },
    {
      "cell_type": "code",
      "metadata": {
        "colab": {
          "base_uri": "https://localhost:8080/",
          "height": 388
        },
        "id": "BhGm6bGKgzsb",
        "outputId": "9787091f-c6a5-444f-cc8d-e5c74d1e80f5"
      },
      "source": [
        "fpr, tpr, thresholds = draw_roc( y_pred_df.actual,\n",
        "y_pred_df.predicted_prob)"
      ],
      "execution_count": 69,
      "outputs": [
        {
          "output_type": "display_data",
          "data": {
            "image/png": "[encoded data removed]",
            "text/plain": [
              "<Figure size 576x432 with 1 Axes>"
            ]
          },
          "metadata": {
            "needs_background": "light"
          }
        }
      ]
    },
    {
      "cell_type": "code",
      "metadata": {
        "colab": {
          "base_uri": "https://localhost:8080/"
        },
        "id": "0_mQwrOyg7YD",
        "outputId": "c7f87fcf-e684-407e-f390-78de031833d7"
      },
      "source": [
        "auc_score = metrics.roc_auc_score( y_pred_df.actual,\n",
        "y_pred_df.predicted_prob )\n",
        "round( float( auc_score ), 2 )"
      ],
      "execution_count": 71,
      "outputs": [
        {
          "output_type": "execute_result",
          "data": {
            "text/plain": [
              "0.81"
            ]
          },
          "metadata": {},
          "execution_count": 71
        }
      ]
    },
    {
      "cell_type": "markdown",
      "metadata": {
        "id": "L27NCa8nhCyA"
      },
      "source": [
        "**Finding Optimal Cutoff**\n",
        " \n",
        " Youden's index"
      ]
    },
    {
      "cell_type": "code",
      "metadata": {
        "colab": {
          "base_uri": "https://localhost:8080/",
          "height": 203
        },
        "id": "PXEQ7iK7hEPs",
        "outputId": "12bfc154-d679-4c91-abe0-133611f7bac1"
      },
      "source": [
        "tpr_fpr = pd.DataFrame( { 'tpr': tpr,\n",
        "                          'fpr': fpr,\n",
        "                          'thresholds': thresholds } )\n",
        "tpr_fpr['diff'] = tpr_fpr.tpr - tpr_fpr.fpr\n",
        "tpr_fpr.sort_values( 'diff', ascending = False )[0:5]"
      ],
      "execution_count": 72,
      "outputs": [
        {
          "output_type": "execute_result",
          "data": {
            "text/html": [
              "<div>\n",
              "<style scoped>\n",
              "    .dataframe tbody tr th:only-of-type {\n",
              "        vertical-align: middle;\n",
              "    }\n",
              "\n",
              "    .dataframe tbody tr th {\n",
              "        vertical-align: top;\n",
              "    }\n",
              "\n",
              "    .dataframe thead th {\n",
              "        text-align: right;\n",
              "    }\n",
              "</style>\n",
              "<table border=\"1\" class=\"dataframe\">\n",
              "  <thead>\n",
              "    <tr style=\"text-align: right;\">\n",
              "      <th></th>\n",
              "      <th>tpr</th>\n",
              "      <th>fpr</th>\n",
              "      <th>thresholds</th>\n",
              "      <th>diff</th>\n",
              "    </tr>\n",
              "  </thead>\n",
              "  <tbody>\n",
              "    <tr>\n",
              "      <th>1155</th>\n",
              "      <td>0.667910</td>\n",
              "      <td>0.174446</td>\n",
              "      <td>0.320829</td>\n",
              "      <td>0.493465</td>\n",
              "    </tr>\n",
              "    <tr>\n",
              "      <th>1156</th>\n",
              "      <td>0.667910</td>\n",
              "      <td>0.174737</td>\n",
              "      <td>0.320782</td>\n",
              "      <td>0.493173</td>\n",
              "    </tr>\n",
              "    <tr>\n",
              "      <th>1157</th>\n",
              "      <td>0.667910</td>\n",
              "      <td>0.175029</td>\n",
              "      <td>0.320512</td>\n",
              "      <td>0.492881</td>\n",
              "    </tr>\n",
              "    <tr>\n",
              "      <th>1158</th>\n",
              "      <td>0.667910</td>\n",
              "      <td>0.175321</td>\n",
              "      <td>0.319931</td>\n",
              "      <td>0.492590</td>\n",
              "    </tr>\n",
              "    <tr>\n",
              "      <th>1172</th>\n",
              "      <td>0.671642</td>\n",
              "      <td>0.179405</td>\n",
              "      <td>0.317379</td>\n",
              "      <td>0.492237</td>\n",
              "    </tr>\n",
              "  </tbody>\n",
              "</table>\n",
              "</div>"
            ],
            "text/plain": [
              "           tpr       fpr  thresholds      diff\n",
              "1155  0.667910  0.174446    0.320829  0.493465\n",
              "1156  0.667910  0.174737    0.320782  0.493173\n",
              "1157  0.667910  0.175029    0.320512  0.492881\n",
              "1158  0.667910  0.175321    0.319931  0.492590\n",
              "1172  0.671642  0.179405    0.317379  0.492237"
            ]
          },
          "metadata": {},
          "execution_count": 72
        }
      ]
    },
    {
      "cell_type": "code",
      "metadata": {
        "id": "551aiZzWhUx_"
      },
      "source": [
        "y_pred_df['predicted_new'] = y_pred_df.predicted_prob.map(\n",
        "                                lambda x: 1 if x > 0.22 else 0)"
      ],
      "execution_count": 73,
      "outputs": []
    },
    {
      "cell_type": "code",
      "metadata": {
        "colab": {
          "base_uri": "https://localhost:8080/",
          "height": 279
        },
        "id": "eiLBNX3Lha1p",
        "outputId": "911fb65e-3c06-4eae-8ce7-a8eace2379c9"
      },
      "source": [
        "draw_cm( y_pred_df.actual,\n",
        "        y_pred_df.predicted_new)"
      ],
      "execution_count": 74,
      "outputs": [
        {
          "output_type": "display_data",
          "data": {
            "image/png": "[encoded data removed]",
            "text/plain": [
              "<Figure size 432x288 with 2 Axes>"
            ]
          },
          "metadata": {
            "needs_background": "light"
          }
        }
      ]
    },
    {
      "cell_type": "code",
      "metadata": {
        "colab": {
          "base_uri": "https://localhost:8080/"
        },
        "id": "Ijy_vEuhhjOF",
        "outputId": "10d3fc58-10c3-4b0c-cd22-cdd41cad5713"
      },
      "source": [
        "print(metrics.classification_report( y_pred_df.actual,\n",
        "y_pred_df.predicted_new ))"
      ],
      "execution_count": 75,
      "outputs": [
        {
          "output_type": "stream",
          "name": "stdout",
          "text": [
            "              precision    recall  f1-score   support\n",
            "\n",
            "           0       0.91      0.70      0.79      3428\n",
            "           1       0.45      0.78      0.57      1072\n",
            "\n",
            "    accuracy                           0.72      4500\n",
            "   macro avg       0.68      0.74      0.68      4500\n",
            "weighted avg       0.80      0.72      0.74      4500\n",
            "\n"
          ]
        }
      ]
    }
  ]
}